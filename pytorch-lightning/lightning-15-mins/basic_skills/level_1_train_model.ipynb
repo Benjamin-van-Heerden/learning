{
 "cells": [
  {
   "cell_type": "markdown",
   "metadata": {},
   "source": [
    "This notebook will go over the typical pytorch lightning workflow."
   ]
  },
  {
   "cell_type": "markdown",
   "metadata": {},
   "source": [
    "## Define a lightning module"
   ]
  },
  {
   "cell_type": "code",
   "execution_count": 4,
   "metadata": {},
   "outputs": [],
   "source": [
    "import os\n",
    "from torch import optim, nn\n",
    "from torch.utils.data import DataLoader\n",
    "from torchvision.datasets import MNIST\n",
    "from torchvision.transforms import ToTensor\n",
    "import lightning.pytorch as pl"
   ]
  },
  {
   "cell_type": "code",
   "execution_count": 16,
   "metadata": {},
   "outputs": [],
   "source": [
    "# first up we have any number of nn.Modules\n",
    "encoder = nn.Sequential(nn.Linear(28 * 28, 128), nn.ReLU(), nn.Linear(128, 16))\n",
    "decoder = nn.Sequential(nn.Linear(16, 128), nn.ReLU(), nn.Linear(128, 28 * 28))\n",
    "\n",
    "# now the lightning module\n",
    "# a lightning module allows nn.Modules to play together in complex ways and abstracts away a lot of the boilerplate\n",
    "class LitAutoEncoder(pl.LightningModule):\n",
    "    def __init__(self, encoder, decoder):\n",
    "        super().__init__()\n",
    "        self.encoder = encoder\n",
    "        self.decoder = decoder\n",
    "\n",
    "    def training_step(self, batch, batch_idx):\n",
    "        # training step defines the train loop\n",
    "        # it is independent of forward\n",
    "        x, y = batch\n",
    "        x = x.view(x.size(0), -1)\n",
    "        z = self.encoder(x)\n",
    "        x_hat = self.decoder(z)\n",
    "        loss = nn.functional.mse_loss(x_hat, x)\n",
    "        self.log(\"train_loss\", loss)\n",
    "        return loss\n",
    "    \n",
    "    def configure_optimizers(self):\n",
    "        optimizer = optim.AdamW(self.parameters(), lr=1e-3)\n",
    "        return optimizer\n",
    "    \n",
    "# init the autoencoder\n",
    "autoencoder = LitAutoEncoder(encoder, decoder)"
   ]
  },
  {
   "cell_type": "markdown",
   "metadata": {},
   "source": [
    "## Define the dataset"
   ]
  },
  {
   "cell_type": "code",
   "execution_count": 17,
   "metadata": {},
   "outputs": [],
   "source": [
    "# lightning supports ANY iterable for the train/val/test/predict splits\n",
    "dataset = MNIST(os.getcwd(), train=True, download=True, transform=ToTensor())\n",
    "train_loader = DataLoader(dataset, batch_size=32)"
   ]
  },
  {
   "cell_type": "code",
   "execution_count": 18,
   "metadata": {},
   "outputs": [
    {
     "data": {
      "image/png": "[encoded data removed]",
      "text/plain": [
       "<Figure size 640x480 with 9 Axes>"
      ]
     },
     "metadata": {},
     "output_type": "display_data"
    }
   ],
   "source": [
    "# lets view some images\n",
    "import matplotlib.pyplot as plt\n",
    "import numpy as np\n",
    "# pick 9 random images and show in a 3x3 grid\n",
    "\n",
    "fig, ax = plt.subplots(3, 3)\n",
    "for i, j in enumerate(np.random.randint(0, len(dataset), 9)):\n",
    "    ax[i // 3, i % 3].imshow(dataset[j][0].squeeze())\n",
    "    ax[i // 3, i % 3].set_title(dataset[j][1])\n",
    "    ax[i // 3, i % 3].axis(\"off\")"
   ]
  },
  {
   "cell_type": "markdown",
   "metadata": {},
   "source": [
    "## Train the model"
   ]
  },
  {
   "cell_type": "code",
   "execution_count": 22,
   "metadata": {},
   "outputs": [
    {
     "name": "stderr",
     "output_type": "stream",
     "text": [
      "GPU available: True (cuda), used: True\n",
      "TPU available: False, using: 0 TPU cores\n",
      "IPU available: False, using: 0 IPUs\n",
      "HPU available: False, using: 0 HPUs\n",
      "LOCAL_RANK: 0 - CUDA_VISIBLE_DEVICES: [0]\n",
      "\n",
      "  | Name    | Type       | Params\n",
      "---------------------------------------\n",
      "0 | encoder | Sequential | 102 K \n",
      "1 | decoder | Sequential | 103 K \n",
      "---------------------------------------\n",
      "205 K     Trainable params\n",
      "0         Non-trainable params\n",
      "205 K     Total params\n",
      "0.823     Total estimated model params size (MB)\n"
     ]
    },
    {
     "data": {
      "application/vnd.jupyter.widget-view+json": {
       "model_id": "c065e7f360df4763bcf58d5ddc62d1d1",
       "version_major": 2,
       "version_minor": 0
      },
      "text/plain": [
       "Training: 0it [00:00, ?it/s]"
      ]
     },
     "metadata": {},
     "output_type": "display_data"
    },
    {
     "name": "stderr",
     "output_type": "stream",
     "text": [
      "`Trainer.fit` stopped: `max_epochs=10` reached.\n"
     ]
    }
   ],
   "source": [
    "# training happens through a lightning trainer - the trainer is powerful and allows for distributed training, early stopping, logging, model checkpointing and more\n",
    "trainer = pl.Trainer(limit_train_batches=100, max_epochs=10)\n",
    "trainer.fit(model=autoencoder, train_dataloaders=train_loader)"
   ]
  },
  {
   "cell_type": "markdown",
   "metadata": {},
   "source": [
    "## Use the model"
   ]
  },
  {
   "cell_type": "code",
   "execution_count": 23,
   "metadata": {},
   "outputs": [],
   "source": [
    "# save the model (other ways to do this via callbacks that are better)\n",
    "checkpoint = trainer.save_checkpoint(\"model.ckpt\")\n",
    "\n",
    "# load the model\n",
    "new_model = LitAutoEncoder.load_from_checkpoint(\"./model.ckpt\", encoder=encoder, decoder=decoder)"
   ]
  },
  {
   "cell_type": "code",
   "execution_count": 28,
   "metadata": {},
   "outputs": [
    {
     "data": {
      "image/png": "[encoded data removed]",
      "text/plain": [
       "<Figure size 640x480 with 6 Axes>"
      ]
     },
     "metadata": {},
     "output_type": "display_data"
    }
   ],
   "source": [
    "# lets see how it does\n",
    "enc = new_model.encoder\n",
    "enc.eval()\n",
    "dec = new_model.decoder\n",
    "dec.eval()\n",
    "\n",
    "# pick 3 random images, show the original and the enc_dec version side by side in a 3x2 grid\n",
    "fig, ax = plt.subplots(3, 2)\n",
    "for i, j in enumerate(np.random.randint(0, len(dataset), 3)):\n",
    "    ax[i, 0].imshow(dataset[j][0].squeeze())\n",
    "    ax[i, 0].set_title(dataset[j][1])\n",
    "    ax[i, 0].axis(\"off\")\n",
    "    x = dataset[j][0].view(1, -1)\n",
    "    z = enc(x)\n",
    "    x_hat = dec(z)\n",
    "    ax[i, 1].imshow(x_hat.detach().numpy().reshape(28, 28))\n",
    "    ax[i, 1].axis(\"off\")\n",
    "\n",
    "# not terrible for such a simple model and about 10s of training"
   ]
  },
  {
   "cell_type": "code",
   "execution_count": null,
   "metadata": {},
   "outputs": [],
   "source": []
  }
 ],
 "metadata": {
  "kernelspec": {
   "display_name": "Python 3",
   "language": "python",
   "name": "python3"
  },
  "language_info": {
   "codemirror_mode": {
    "name": "ipython",
    "version": 3
   },
   "file_extension": ".py",
   "mimetype": "text/x-python",
   "name": "python",
   "nbconvert_exporter": "python",
   "pygments_lexer": "ipython3",
   "version": "3.10.9"
  },
  "orig_nbformat": 4
 },
 "nbformat": 4,
 "nbformat_minor": 2
}
